{
 "cells": [
  {
   "cell_type": "code",
   "execution_count": 48,
   "metadata": {},
   "outputs": [],
   "source": [
    "import numpy as np\n",
    "import pandas as pd\n",
    "import matplotlib.pyplot as plt\n",
    "import seaborn as sns\n",
    "import random\n",
    "from sklearn.preprocessing import StandardScaler\n",
    "from sklearn.metrics import r2_score, accuracy_score\n",
    "from sklearn.model_selection import cross_val_score as cv\n",
    "np.random.seed(1)"
   ]
  },
  {
   "cell_type": "code",
   "execution_count": 2,
   "metadata": {},
   "outputs": [],
   "source": [
    "from sklearn.ensemble import RandomForestRegressor"
   ]
  },
  {
   "cell_type": "code",
   "execution_count": 31,
   "metadata": {},
   "outputs": [],
   "source": [
    "df_raw = pd.read_clipboard()"
   ]
  },
  {
   "cell_type": "code",
   "execution_count": 49,
   "metadata": {},
   "outputs": [
    {
     "data": {
      "text/plain": [
       "F                       0.859961\n",
       "name                    1.000000\n",
       "Wireless Charging       1.000000\n",
       "Wattage                 1.000000\n",
       "Ram                     1.000000\n",
       "Internal                1.000000\n",
       "Screen to body ratio    1.000000\n",
       "Size                    1.000000\n",
       "Single-MP               1.000000\n",
       "Weight                  1.000000\n",
       "nanometers              1.000000\n",
       "#cameras                1.000000\n",
       "Total_bands             1.000000\n",
       "CPU_score               1.000000\n",
       "#2g_bands               1.000000\n",
       "#4g_bands               1.000000\n",
       "#5g_bands               1.000000\n",
       "Announced               1.000000\n",
       "Price                   1.000000\n",
       "PPI                     1.000000\n",
       "Bluetooth               1.000000\n",
       "VERSION                 1.000000\n",
       "OS                      1.000000\n",
       "Battery                 1.000000\n",
       "Brand                   1.000000\n",
       "NFC                     1.000000\n",
       "Thickness               1.000000\n",
       "#3g_bands               1.000000\n",
       "GPU_score               1.000000\n",
       "dtype: float64"
      ]
     },
     "execution_count": 49,
     "metadata": {},
     "output_type": "execute_result"
    }
   ],
   "source": [
    "(df_raw.notnull().sum()/len(df_raw)).sort_values()"
   ]
  },
  {
   "cell_type": "code",
   "execution_count": 50,
   "metadata": {},
   "outputs": [],
   "source": [
    "df_raw = df_raw[['name', 'Thickness', 'NFC', 'Brand', 'Battery', 'OS', 'VERSION',\n",
    "       'Bluetooth', 'PPI', 'Price', 'Announced', '#5g_bands', '#4g_bands',\n",
    "       '#3g_bands', '#2g_bands', 'Total_bands', '#cameras', 'nanometers',\n",
    "       'Weight', 'Single-MP', 'F', 'Size', 'Screen to body ratio', 'Internal',\n",
    "       'Ram', 'Wattage', 'Wireless Charging', 'CPU_score', 'GPU_score']]"
   ]
  },
  {
   "cell_type": "code",
   "execution_count": 51,
   "metadata": {},
   "outputs": [],
   "source": [
    "df_raw = df_raw.fillna(df_raw.median())"
   ]
  },
  {
   "cell_type": "code",
   "execution_count": 52,
   "metadata": {
    "scrolled": true
   },
   "outputs": [
    {
     "data": {
      "text/plain": [
       "F                       0.859961\n",
       "name                    1.000000\n",
       "Wireless Charging       1.000000\n",
       "Wattage                 1.000000\n",
       "Ram                     1.000000\n",
       "Internal                1.000000\n",
       "Screen to body ratio    1.000000\n",
       "Size                    1.000000\n",
       "Single-MP               1.000000\n",
       "Weight                  1.000000\n",
       "nanometers              1.000000\n",
       "#cameras                1.000000\n",
       "Total_bands             1.000000\n",
       "CPU_score               1.000000\n",
       "#2g_bands               1.000000\n",
       "#4g_bands               1.000000\n",
       "#5g_bands               1.000000\n",
       "Announced               1.000000\n",
       "Price                   1.000000\n",
       "PPI                     1.000000\n",
       "Bluetooth               1.000000\n",
       "VERSION                 1.000000\n",
       "OS                      1.000000\n",
       "Battery                 1.000000\n",
       "Brand                   1.000000\n",
       "NFC                     1.000000\n",
       "Thickness               1.000000\n",
       "#3g_bands               1.000000\n",
       "GPU_score               1.000000\n",
       "dtype: float64"
      ]
     },
     "execution_count": 52,
     "metadata": {},
     "output_type": "execute_result"
    }
   ],
   "source": [
    "(df_raw.notnull().sum()/507).sort_values()"
   ]
  },
  {
   "cell_type": "code",
   "execution_count": 53,
   "metadata": {},
   "outputs": [],
   "source": [
    "x = df_raw[['Thickness', 'NFC', 'Brand', 'Battery','VERSION',\n",
    "           'Bluetooth', 'PPI', 'Announced',\n",
    "           '#5g_bands', '#4g_bands', '#3g_bands', '#2g_bands', 'Total_bands',\n",
    "           '#cameras', 'nanometers','Weight', 'Single-MP',\n",
    "           'Size', 'Screen to body ratio', 'Internal','Ram',\n",
    "           'Wattage', 'Wireless Charging', 'CPU_score', 'GPU_score']]"
   ]
  },
  {
   "cell_type": "code",
   "execution_count": 54,
   "metadata": {
    "scrolled": true
   },
   "outputs": [
    {
     "data": {
      "text/plain": [
       "Thickness               float64\n",
       "NFC                       int64\n",
       "Brand                    object\n",
       "Battery                   int64\n",
       "VERSION                   int64\n",
       "Bluetooth               float64\n",
       "PPI                     float64\n",
       "Announced               float64\n",
       "#5g_bands                 int64\n",
       "#4g_bands                 int64\n",
       "#3g_bands                 int64\n",
       "#2g_bands                 int64\n",
       "Total_bands               int64\n",
       "#cameras                  int64\n",
       "nanometers              float64\n",
       "Weight                  float64\n",
       "Single-MP               float64\n",
       "Size                    float64\n",
       "Screen to body ratio    float64\n",
       "Internal                  int64\n",
       "Ram                     float64\n",
       "Wattage                 float64\n",
       "Wireless Charging         int64\n",
       "CPU_score               float64\n",
       "GPU_score               float64\n",
       "dtype: object"
      ]
     },
     "execution_count": 54,
     "metadata": {},
     "output_type": "execute_result"
    }
   ],
   "source": [
    "x.dtypes"
   ]
  },
  {
   "cell_type": "code",
   "execution_count": 55,
   "metadata": {},
   "outputs": [],
   "source": [
    "x = pd.get_dummies(x)"
   ]
  },
  {
   "cell_type": "code",
   "execution_count": 62,
   "metadata": {},
   "outputs": [],
   "source": [
    "test_idx = pd.Series(range(len(x))).sample(int(len(x)/4), random_state=42).tolist()\n",
    "train_idx = [i for i in range(len(x)) if i not in test_idx]"
   ]
  },
  {
   "cell_type": "code",
   "execution_count": 64,
   "metadata": {},
   "outputs": [
    {
     "name": "stderr",
     "output_type": "stream",
     "text": [
      "C:\\Users\\Synergy\\AppData\\Local\\conda\\conda\\envs\\threeseven\\lib\\site-packages\\sklearn\\preprocessing\\data.py:645: DataConversionWarning: Data with input dtype uint8, int64, float64 were all converted to float64 by StandardScaler.\n",
      "  return self.partial_fit(X, y)\n",
      "C:\\Users\\Synergy\\AppData\\Local\\conda\\conda\\envs\\threeseven\\lib\\site-packages\\sklearn\\base.py:464: DataConversionWarning: Data with input dtype uint8, int64, float64 were all converted to float64 by StandardScaler.\n",
      "  return self.fit(X, **fit_params).transform(X)\n",
      "C:\\Users\\Synergy\\AppData\\Local\\conda\\conda\\envs\\threeseven\\lib\\site-packages\\sklearn\\preprocessing\\data.py:645: DataConversionWarning: Data with input dtype uint8, int64, float64 were all converted to float64 by StandardScaler.\n",
      "  return self.partial_fit(X, y)\n",
      "C:\\Users\\Synergy\\AppData\\Local\\conda\\conda\\envs\\threeseven\\lib\\site-packages\\sklearn\\base.py:464: DataConversionWarning: Data with input dtype uint8, int64, float64 were all converted to float64 by StandardScaler.\n",
      "  return self.fit(X, **fit_params).transform(X)\n",
      "C:\\Users\\Synergy\\AppData\\Local\\conda\\conda\\envs\\threeseven\\lib\\site-packages\\ipykernel_launcher.py:7: DataConversionWarning: Data with input dtype uint8, int64, float64 were all converted to float64 by StandardScaler.\n",
      "  import sys\n"
     ]
    }
   ],
   "source": [
    "X_test = x.iloc[test_idx]\n",
    "X_train = x.iloc[train_idx]\n",
    "\n",
    "scaler = StandardScaler()\n",
    "X_scaled_tr = scaler.fit_transform(X_train)\n",
    "X_scaled = StandardScaler().fit_transform(x)\n",
    "X_scaled_ts = scaler.transform(X_test)"
   ]
  },
  {
   "cell_type": "code",
   "execution_count": 65,
   "metadata": {},
   "outputs": [],
   "source": [
    "y_test = df_raw.Price.iloc[test_idx].values\n",
    "y_train = df_raw.Price.iloc[train_idx].values"
   ]
  },
  {
   "cell_type": "code",
   "execution_count": 66,
   "metadata": {},
   "outputs": [
    {
     "name": "stdout",
     "output_type": "stream",
     "text": [
      "0.12904304652811785 0.3681521592763541\n",
      "0.0764444444444444 0.2113312074829933\n",
      "0.8349427505064883 0.23600410461489274\n"
     ]
    },
    {
     "name": "stderr",
     "output_type": "stream",
     "text": [
      "C:\\Users\\Synergy\\AppData\\Local\\conda\\conda\\envs\\threeseven\\lib\\site-packages\\sklearn\\ensemble\\forest.py:246: FutureWarning: The default value of n_estimators will change from 10 in version 0.20 to 100 in 0.22.\n",
      "  \"10 in version 0.20 to 100 in 0.22.\", FutureWarning)\n"
     ]
    }
   ],
   "source": [
    "rf = RandomForestRegressor()\n",
    "rf.fit(X = X_scaled_tr, y = y_train)\n",
    "preds_tr = rf.predict(X_scaled_tr)\n",
    "preds_ts = rf.predict(X_scaled_ts)\n",
    "print((abs(preds_tr - y_train)/y_train).mean(), (abs(preds_ts - y_test)/y_test).mean())\n",
    "print(np.median(abs(preds_tr - y_train)/y_train), np.median(abs(preds_ts - y_test)/y_test))\n",
    "print(r2_score(preds_tr,y_train), r2_score(preds_ts,y_test))"
   ]
  },
  {
   "cell_type": "code",
   "execution_count": null,
   "metadata": {},
   "outputs": [],
   "source": []
  }
 ],
 "metadata": {
  "kernelspec": {
   "display_name": "Python 3",
   "language": "python",
   "name": "python3"
  },
  "language_info": {
   "codemirror_mode": {
    "name": "ipython",
    "version": 3
   },
   "file_extension": ".py",
   "mimetype": "text/x-python",
   "name": "python",
   "nbconvert_exporter": "python",
   "pygments_lexer": "ipython3",
   "version": "3.7.3"
  }
 },
 "nbformat": 4,
 "nbformat_minor": 2
}
